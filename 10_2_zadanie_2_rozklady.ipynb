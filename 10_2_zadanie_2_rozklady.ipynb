{
 "cells": [
  {
   "cell_type": "markdown",
   "id": "e370cec4-b9e6-4f90-8c57-879bab83a450",
   "metadata": {},
   "source": [
    "# Zadanie 10.2 Statystyka"
   ]
  },
  {
   "cell_type": "markdown",
   "id": "b86660c6-0cfd-4d53-95fc-569667105439",
   "metadata": {},
   "source": [
    "#### importujemy niezbędne biblioteki"
   ]
  },
  {
   "cell_type": "code",
   "execution_count": 1,
   "id": "3b9e9008-46d0-41ba-8363-5948146a0b3c",
   "metadata": {},
   "outputs": [],
   "source": [
    "import numpy as np\n",
    "import pandas as pd\n",
    "import matplotlib.pyplot as plt\n",
    "import seaborn as sns\n",
    "from scipy import stats"
   ]
  },
  {
   "cell_type": "markdown",
   "id": "7f2f7638-6295-4927-ba41-991ac698752d",
   "metadata": {},
   "source": [
    "#### Dzięki bibliotece numpy generujemy pseudolosowe rozkłady normalne zgodnie z trescią zadania."
   ]
  },
  {
   "cell_type": "code",
   "execution_count": 2,
   "id": "c9a5731d-f892-42be-bdf1-c6f731718e03",
   "metadata": {},
   "outputs": [],
   "source": [
    "small_data_set = np.random.normal(loc = 3, scale = 1, size = 100)\n",
    "large_data_set = np.random.normal(loc = 3, scale = 1, size = 10000)"
   ]
  },
  {
   "cell_type": "markdown",
   "id": "3f8ccee3-3adf-40ff-82bf-7399d86b7047",
   "metadata": {},
   "source": [
    "#### Przy tej samej liczbie przedziałów dla histogramu oba wykresy bedą się znacznie różnic miedzy sobą. Histogram dla 100 danych będzie w mniejszym stopniu przypominał rozkład normalny ze względu na stosunkowo małą liczbę danych. Będzie również mniej prawdopodobne by wystąpiły na nim outlinery. Wraz ze zwiększaniem ilości danych prawdopodobieństwo wystąpienia outilnerów będzie wzrastać. "
   ]
  },
  {
   "cell_type": "code",
   "execution_count": 3,
   "id": "b0802782-be0f-4dc4-a1f8-5ad182dfa666",
   "metadata": {},
   "outputs": [
    {
     "data": {
      "image/png": "[encoded data removed]",
      "text/plain": [
       "<Figure size 640x480 with 1 Axes>"
      ]
     },
     "metadata": {},
     "output_type": "display_data"
    },
    {
     "data": {
      "image/png": "[encoded data removed]",
      "text/plain": [
       "<Figure size 640x480 with 1 Axes>"
      ]
     },
     "metadata": {},
     "output_type": "display_data"
    }
   ],
   "source": [
    "plt.hist(small_data_set, bins=20)\n",
    "plt.show()\n",
    "plt.hist(large_data_set, bins=20)\n",
    "plt.show()"
   ]
  },
  {
   "cell_type": "markdown",
   "id": "574a340a-bccc-4b0f-bba9-ef9441e395d9",
   "metadata": {},
   "source": [
    "#### dla średniej nie widac większej róznicy dla tak wygenerowanych danych, aczkolwiek w przypadku kilkukrotnego powtórzenia generowania danych pseudolosowych możnaby spodziewać się że średnia będzie bliżej wartości 3 dla zestawu 10000 danych. Średnia dla zestawu 100 danych bedzie bardziej podatna na wpływ wartości ekstremalnych"
   ]
  },
  {
   "cell_type": "code",
   "execution_count": 4,
   "id": "9735f6ad-0af1-4a9c-82f8-8baff1388a6c",
   "metadata": {},
   "outputs": [
    {
     "name": "stdout",
     "output_type": "stream",
     "text": [
      "3.022742237996868\n",
      "2.9864934774946383\n"
     ]
    }
   ],
   "source": [
    "mean_smallds = np.mean(small_data_set)\n",
    "print(mean_smallds)\n",
    "mean_largeds = np.mean(large_data_set)\n",
    "print(mean_largeds)"
   ]
  },
  {
   "cell_type": "markdown",
   "id": "f914babe-bbb1-420b-a4b8-e9a7545f443e",
   "metadata": {},
   "source": [
    "#### Mediana jest porównywalna dla onu zestawu danych"
   ]
  },
  {
   "cell_type": "code",
   "execution_count": 5,
   "id": "25fa7ef4-c766-4315-9bb4-82cc1783b909",
   "metadata": {},
   "outputs": [
    {
     "name": "stdout",
     "output_type": "stream",
     "text": [
      "3.002843879133515\n",
      "2.974925722463934\n"
     ]
    }
   ],
   "source": [
    "median_smallds = np.median(small_data_set)\n",
    "print(median_smallds)\n",
    "median_largeds = np.median(large_data_set)\n",
    "print(median_largeds)"
   ]
  },
  {
   "cell_type": "markdown",
   "id": "a36acc85-07c4-4753-a31c-d4bc57cb3834",
   "metadata": {},
   "source": [
    "#### Liczenie mody mnie ma większego sensu gdy generujemy dane pseudolosowe typu float. Count prawie zawsze bedzie = 1. W bardzo rzadkich przypadkach może się zdarzyć że count bedzie większe."
   ]
  },
  {
   "cell_type": "code",
   "execution_count": 6,
   "id": "59bcb344-e4df-4bdc-a202-5ee66f90612a",
   "metadata": {},
   "outputs": [
    {
     "name": "stdout",
     "output_type": "stream",
     "text": [
      "ModeResult(mode=0.8133392589276638, count=1)\n",
      "ModeResult(mode=-0.792346808769973, count=1)\n"
     ]
    }
   ],
   "source": [
    "mode_smallds = stats.mode(small_data_set)\n",
    "print(mode_smallds)\n",
    "mode_largeds = stats.mode(large_data_set)\n",
    "print(mode_largeds)"
   ]
  },
  {
   "cell_type": "markdown",
   "id": "c535d32b-59cc-4975-8595-430521eb2b13",
   "metadata": {},
   "source": [
    "#### Dla kwartyli róznica bedzie widoczna szczególnie przy Q1 oraz Q4 w związku z faktem że większe prawdopodobieństwo wystąpienia ekstremalnych wartosci będzie występowało dla bardziej licznego zbioru danych.. "
   ]
  },
  {
   "cell_type": "code",
   "execution_count": 7,
   "id": "63252338-91ce-4d04-ac63-fa1958813055",
   "metadata": {},
   "outputs": [
    {
     "name": "stdout",
     "output_type": "stream",
     "text": [
      "Q0-small: 0.8133392589276638\n",
      "Q1-small: 2.0\n",
      "Q2-small: 3.002843879133515\n",
      "Q3-small: 4.0\n",
      "Q4-small: 6.0\n",
      "Q0-large: -0.792346808769973\n",
      "Q1-large: 2.0\n",
      "Q2-large: 2.974925722463934\n",
      "Q3-large: 4.0\n",
      "Q4-large: 7.0\n"
     ]
    }
   ],
   "source": [
    "q0s = np.quantile(small_data_set, 0.0)\n",
    "q1s = np.round(np.quantile(small_data_set, 0.25))\n",
    "q3s = np.round(np.quantile(small_data_set, 0.75))\n",
    "q4s = np.round(np.quantile(small_data_set, 1.0))\n",
    "print(f'Q0-small: {q0s}')\n",
    "print(f'Q1-small: {q1s}')\n",
    "print(f'Q2-small: {median_smallds}')\n",
    "print(f'Q3-small: {q3s}')\n",
    "print(f'Q4-small: {q4s}')\n",
    "\n",
    "q0l = np.quantile(large_data_set, 0.0)\n",
    "q1l = np.round(np.quantile(large_data_set, 0.25))\n",
    "q3l = np.round(np.quantile(large_data_set, 0.75))\n",
    "q4l = np.round(np.quantile(large_data_set, 1.0))\n",
    "print(f'Q0-large: {q0l}')\n",
    "print(f'Q1-large: {q1l}')\n",
    "print(f'Q2-large: {median_largeds}')\n",
    "print(f'Q3-large: {q3l}')\n",
    "print(f'Q4-large: {q4l}')"
   ]
  },
  {
   "cell_type": "markdown",
   "id": "a26ce7fc-9f2d-4c5c-9c62-1f26294d145a",
   "metadata": {},
   "source": [
    "#### Na wykresach widać wpływ wielkości zbioru danych na prawdopodobieństwo wystąpienia ekstremalnych wartości. Najlepiej obrazują to linie oznaczające wartości max. "
   ]
  },
  {
   "cell_type": "code",
   "execution_count": 8,
   "id": "dad76954-c40c-4aad-b728-b4dfd848cdc8",
   "metadata": {},
   "outputs": [
    {
     "data": {
      "image/png": "[encoded data removed]",
      "text/plain": [
       "<Figure size 640x480 with 1 Axes>"
      ]
     },
     "metadata": {},
     "output_type": "display_data"
    },
    {
     "data": {
      "image/png": "[encoded data removed]",
      "text/plain": [
       "<Figure size 640x480 with 1 Axes>"
      ]
     },
     "metadata": {},
     "output_type": "display_data"
    }
   ],
   "source": [
    "plt.hist(small_data_set, bins=30)\n",
    "plt.axvline(x = mean_smallds, color='red', label = 'Średnia')\n",
    "plt.axvline(x = median_smallds, color='green', label = 'Mediana')\n",
    "plt.axvline(x = mode_smallds[0], color='orange', label = 'Moda')\n",
    "plt.axvline(x = q0s, color='black', label = 'Min')\n",
    "plt.axvline(x = q1s, color='black', label = 'Q1')\n",
    "plt.axvline(x = q3s, color='black', label = 'Q3')\n",
    "plt.axvline(x = q4s, color='black', label = 'Max')\n",
    "plt.legend(loc='upper right')\n",
    "plt.show()\n",
    "plt.hist(large_data_set, bins=30)\n",
    "plt.axvline(x = mean_largeds, color='red', label = 'Średnia')\n",
    "plt.axvline(x = median_largeds, color='green', label = 'Mediana')\n",
    "plt.axvline(x = mode_largeds[0], color='orange', label = 'Moda')\n",
    "plt.axvline(x = q0l, color='black', label = 'Min')\n",
    "plt.axvline(x = q1l, color='black', label = 'Q1')\n",
    "plt.axvline(x = q3l, color='black', label = 'Q3')\n",
    "plt.axvline(x = q4l, color='black', label = 'Max')\n",
    "plt.legend(loc='upper right')\n",
    "plt.show()"
   ]
  },
  {
   "cell_type": "markdown",
   "id": "98367a98-c4fe-468d-9593-3d1996416031",
   "metadata": {},
   "source": [
    "#### Również dla zakresu danych spodziewamy się że dane w ilości 10000 będą miały większy zakres niż dane w ilości 100"
   ]
  },
  {
   "cell_type": "code",
   "execution_count": 9,
   "id": "506d2940-902c-430a-8d39-e9a7c351e113",
   "metadata": {},
   "outputs": [
    {
     "name": "stdout",
     "output_type": "stream",
     "text": [
      "5.073151591707669\n",
      "7.636348492246577\n"
     ]
    }
   ],
   "source": [
    "range_smallds = max(small_data_set) - min(small_data_set)\n",
    "print(range_smallds)\n",
    "range_largeds = max(large_data_set) - min(large_data_set)\n",
    "print(range_largeds)"
   ]
  },
  {
   "cell_type": "markdown",
   "id": "71e8cf1d-c790-4934-bbce-94b0fb4a55c4",
   "metadata": {},
   "source": [
    "#### Rozstęp miedzykwartylowy odnosi się do środkowej częsci rozkładu, więc nie powinno być to dużych różnic. "
   ]
  },
  {
   "cell_type": "code",
   "execution_count": 10,
   "id": "6f4bfeb8-cfba-4c59-b81c-3e2e2e2fd744",
   "metadata": {},
   "outputs": [
    {
     "name": "stdout",
     "output_type": "stream",
     "text": [
      "2.0\n",
      "2.0\n"
     ]
    }
   ],
   "source": [
    "iqrs = q3s - q1s\n",
    "print(iqrs)\n",
    "iqrl = q3l - q1l\n",
    "print(iqrl)"
   ]
  },
  {
   "cell_type": "markdown",
   "id": "8a771c40-250f-422d-99c9-4944a10d6279",
   "metadata": {},
   "source": [
    "#### Boxploty bardzo dobrze ilustrują prawdopodobieństwo pojawienia się outlinerów dla każdej z grup danych. Im więcej danych tym większe prawdopodobieństwo pojawienia się outlinerów. "
   ]
  },
  {
   "cell_type": "code",
   "execution_count": 34,
   "id": "e2cbf3d9-f178-4016-86e9-4611e1f950e8",
   "metadata": {},
   "outputs": [
    {
     "data": {
      "image/png": "[encoded data removed]",
      "text/plain": [
       "<Figure size 640x480 with 1 Axes>"
      ]
     },
     "metadata": {},
     "output_type": "display_data"
    },
    {
     "data": {
      "image/png": "[encoded data removed]",
      "text/plain": [
       "<Figure size 640x480 with 1 Axes>"
      ]
     },
     "metadata": {},
     "output_type": "display_data"
    }
   ],
   "source": [
    "plt.boxplot(small_data_set)\n",
    "plt.show()\n",
    "plt.boxplot(large_data_set)\n",
    "plt.show()"
   ]
  },
  {
   "cell_type": "markdown",
   "id": "ff16ee20-c3e6-4207-b3dd-882ab28d828e",
   "metadata": {},
   "source": [
    "#### Ocena wariancji sprowadza się do tego samego co ocena odchylenia standardowego poniżej"
   ]
  },
  {
   "cell_type": "code",
   "execution_count": 12,
   "id": "4dbce1dc-060b-434a-b574-c50d00549c84",
   "metadata": {},
   "outputs": [
    {
     "name": "stdout",
     "output_type": "stream",
     "text": [
      "0.8990880261507525\n",
      "0.9934120593190574\n"
     ]
    }
   ],
   "source": [
    "variance_smallds = np.var(small_data_set, ddof=1)\n",
    "print(variance_smallds)\n",
    "variance_largeds = np.var(large_data_set, ddof=1)\n",
    "print(variance_largeds)"
   ]
  },
  {
   "cell_type": "markdown",
   "id": "4d9c75c7-b197-4dbb-bc09-7657e9d68aaa",
   "metadata": {},
   "source": [
    "#### im bardziej dane oddalone są od średniej tym większe jest odchylenie standardowe. W przypadku gdy mamy wiecej danych większe jest prawdopodobieństwo pojawienia się danych ekstremalnych co zarazem wpływa na zwiększenie odchylenia standardowego. "
   ]
  },
  {
   "cell_type": "code",
   "execution_count": 13,
   "id": "3d395b20-70de-445e-902d-121d2eb28d1a",
   "metadata": {},
   "outputs": [
    {
     "name": "stdout",
     "output_type": "stream",
     "text": [
      "0.9482025238053063\n",
      "0.9967005865951205\n"
     ]
    }
   ],
   "source": [
    "standard_deviation_smallds = np.std(small_data_set, ddof=1)\n",
    "print(standard_deviation_smallds)\n",
    "standard_deviation_largeds = np.std(large_data_set, ddof=1)\n",
    "print(standard_deviation_largeds)"
   ]
  }
 ],
 "metadata": {
  "kernelspec": {
   "display_name": "Python 3 (ipykernel)",
   "language": "python",
   "name": "python3"
  },
  "language_info": {
   "codemirror_mode": {
    "name": "ipython",
    "version": 3
   },
   "file_extension": ".py",
   "mimetype": "text/x-python",
   "name": "python",
   "nbconvert_exporter": "python",
   "pygments_lexer": "ipython3",
   "version": "3.12.3"
  }
 },
 "nbformat": 4,
 "nbformat_minor": 5
}
